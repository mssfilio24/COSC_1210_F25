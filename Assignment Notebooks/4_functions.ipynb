{
 "cells": [
  {
   "cell_type": "markdown",
   "id": "9e39443c",
   "metadata": {},
   "source": [
    "## COSC 1210\n",
    "### Functions\n",
    "\n",
    "In this notebook, we will cover\n",
    "- Create your own functions with default parameters\n",
    "- Pass data between functions with tuples\n",
    "- Understand scope in a program\n",
    "- Create flexible functions\n",
    "\n",
    "Based on Deitel Ch 4 (4.1-4.3)"
   ]
  },
  {
   "cell_type": "raw",
   "id": "b802a623",
   "metadata": {
    "vscode": {
     "languageId": "raw"
    }
   },
   "source": [
    "def function_name(formal_parameters, ...):  # function definition\n",
    "    '''docstring that describes IPO'''\n",
    "    a = 10\n",
    "    b = 20\n",
    "    c = 30\n",
    "    return a, b, c  # return values separated by a comma for each value\n",
    "\n",
    "function_name(actual_parameters, ...)   # function caller"
   ]
  },
  {
   "cell_type": "code",
   "execution_count": null,
   "id": "6aff422d",
   "metadata": {},
   "outputs": [],
   "source": [
    "# a simple custom function \n",
    "def simple_funct():\n",
    "    x = input(\"enter something\")\n",
    "    return x = anything after a returned is ignored\n",
    "    print(\"anything after a return is not run\")\n",
    "\n",
    "def main():\n",
    "    print(simple_funct())\n",
    "main()"
   ]
  },
  {
   "cell_type": "code",
   "execution_count": null,
   "id": "701a32e3",
   "metadata": {},
   "outputs": [],
   "source": [
    "# what if we forget return??\n",
    "def simple_funct():\n",
    "    x = input(\"enter something\")\n",
    "\n",
    "def main():\n",
    "    print(simple_funct())\n",
    "    print(\"when no return is specified from a function, None type is returned\")\n",
    "main()"
   ]
  },
  {
   "cell_type": "code",
   "execution_count": 2,
   "id": "3b6428b8",
   "metadata": {},
   "outputs": [
    {
     "name": "stdout",
     "output_type": "stream",
     "text": [
      "the return is (5, 6) and its type is <class 'tuple'>\n"
     ]
    }
   ],
   "source": [
    "# how are multiple values returned??\n",
    "def function_1(): # no parameters\n",
    "    x = eval(input(\"enter a number\"))\n",
    "    y = eval(input(\"enter another number\"))\n",
    "    return x, y\n",
    "\n",
    "def main():\n",
    "    print(\"the return is\", function_1(), \"and its type is\", type(function_1())) #note the empty parentheses\n",
    "main()"
   ]
  },
  {
   "cell_type": "markdown",
   "id": "207b6cc7",
   "metadata": {},
   "source": [
    "### A note on tuples\n",
    "If a return statement returns multiple variables, it packs them in a tuple. Remember, a tuple is a single object. So, if you need to do something with the tuple, you will need to slice them out.\n",
    "\n",
    "a = (10, 20)\n",
    "\n",
    "num1, num2 = a"
   ]
  },
  {
   "cell_type": "code",
   "execution_count": 3,
   "id": "0dc6b551",
   "metadata": {},
   "outputs": [
    {
     "name": "stdout",
     "output_type": "stream",
     "text": [
      "10\n",
      "20\n",
      "30\n",
      "40\n"
     ]
    }
   ],
   "source": [
    "# Here, three numbers are packed in a tuple\n",
    "a = (10, 20, 30)\n",
    "\n",
    "# use sequential assignment to get the numbers to use individually\n",
    "num1, num2, num3 = a\n",
    "print(num1)\n",
    "print(num2)\n",
    "print(num3)\n",
    "print(num1 + num3)"
   ]
  },
  {
   "cell_type": "code",
   "execution_count": 1,
   "id": "c4cd0949",
   "metadata": {},
   "outputs": [
    {
     "name": "stdout",
     "output_type": "stream",
     "text": [
      "(4, 7)\n"
     ]
    }
   ],
   "source": [
    "# functions with parameters\n",
    "def function_2(x, y):\n",
    "    return x, y\n",
    "\n",
    "def main():\n",
    "    n1 = eval(input(\"enter a number\"))\n",
    "    n2 = eval(input(\"enter another number\"))\n",
    "    print(function_2(n1, n2)) #note the empty parentheses\n",
    "main()"
   ]
  },
  {
   "cell_type": "markdown",
   "id": "2a49a330",
   "metadata": {},
   "source": [
    "#### **Stop and answer this question**\n",
    "Explain why n1 and n2 don't have to be used in function_2 and x and y can be used instead\n",
    "\n"
   ]
  },
  {
   "cell_type": "markdown",
   "id": "0cae493b",
   "metadata": {},
   "source": [
    "### What about multiple functions?"
   ]
  },
  {
   "cell_type": "code",
   "execution_count": 3,
   "id": "a7b3ee2c",
   "metadata": {},
   "outputs": [
    {
     "name": "stdout",
     "output_type": "stream",
     "text": [
      "5 squared is 25\n"
     ]
    }
   ],
   "source": [
    "# main calls two functions\n",
    "def square(number):\n",
    "    '''Calculate the square of the number\n",
    "    number should be a float or int\n",
    "    '''\n",
    "    return number ** 2\n",
    "\n",
    "def get_user_number():\n",
    "    user_num = eval(input(\"enter a number \"))\n",
    "    return user_num\n",
    "\n",
    "def main():\n",
    "    '''get a user number and square it'''\n",
    "    x_to_square = get_user_number()\n",
    "    sq = square(x_to_square)\n",
    "    print(x_to_square, \"squared is\", sq)\n",
    "main()"
   ]
  },
  {
   "cell_type": "markdown",
   "id": "1ec101d9",
   "metadata": {},
   "source": [
    "#### **Stop and answer this question**\n",
    "Draw the structure chart for the code above\n",
    "\n"
   ]
  },
  {
   "cell_type": "markdown",
   "id": "f6f5e77c",
   "metadata": {},
   "source": [
    "#### **Stop and answer this question**\n",
    "Follow the instructions in the code cell below..."
   ]
  },
  {
   "cell_type": "code",
   "execution_count": 11,
   "id": "0c6e7554",
   "metadata": {},
   "outputs": [
    {
     "name": "stdout",
     "output_type": "stream",
     "text": [
      "the two numbers are (6, 5)\n",
      "their sum is 11\n"
     ]
    }
   ],
   "source": [
    "# create two functions - main() and get_two_numbers()    \n",
    "# get_two_numbers should get two numbers from the user and return them \n",
    "# main() should call get_two_numbers and display them\n",
    "\n",
    "def get_two_numbers():\n",
    "    \"get user input and return\"\n",
    "    n1= eval(input(\"eneter a number\"))\n",
    "    n2= eval(input(\"eneter a number\"))\n",
    "    return(n1, n2)\n",
    "\n",
    "def sum_together(num1, num2):\n",
    "    \"sum two numbers\"\n",
    "    return num1 + num2\n",
    "\n",
    "def main():\n",
    "    \"get two numbwer and display them\"\n",
    "    #call function get_two_numbers\n",
    "    vals = get_two_numbers()\n",
    "    x, y = vals\n",
    "    the_sum= sum_together(x,y)\n",
    "    print(\"the two numbers are\", vals)\n",
    "    print(\"their sum is\", the_sum)\n",
    "    #display the value\n",
    "main()    "
   ]
  },
  {
   "cell_type": "code",
   "execution_count": 16,
   "id": "5028d488",
   "metadata": {},
   "outputs": [
    {
     "name": "stdout",
     "output_type": "stream",
     "text": [
      "the two numbers are (4, 5)\n",
      "their sum is 9\n"
     ]
    }
   ],
   "source": [
    "def get_two_numbers():\n",
    "    \"get user input and return\"\n",
    "    n1= eval(input(\"eneter a number\"))\n",
    "    n2= eval(input(\"eneter a number\"))\n",
    "    return(n1, n2)\n",
    "\n",
    "def sum_together(num_tuple):\n",
    "    \"sum two numbers\"\n",
    "    num1, num2 = num_tuple\n",
    "    return num1 + num2\n",
    "\n",
    "def main():\n",
    "    \"get two numbwer and display them\"\n",
    "    #call function get_two_numbers\n",
    "    vals = get_two_numbers()\n",
    "    x, y = vals\n",
    "    the_sum= sum_together(vals)\n",
    "    print(\"the two numbers are\", vals)\n",
    "    print(\"their sum is\", the_sum)\n",
    "    #display the value\n",
    "main()    "
   ]
  },
  {
   "cell_type": "markdown",
   "id": "185c7fd2",
   "metadata": {},
   "source": [
    "#### More examples of functions"
   ]
  },
  {
   "cell_type": "code",
   "execution_count": 13,
   "id": "8bf60317",
   "metadata": {},
   "outputs": [
    {
     "data": {
      "text/plain": [
       "127"
      ]
     },
     "execution_count": 13,
     "metadata": {},
     "output_type": "execute_result"
    }
   ],
   "source": [
    "# you need to have as many actual parameters as there are formal parameters\n",
    "def maximum(value1, value2, value3):\n",
    "    \"\"\" Return the maximum of three values\"\"\"\n",
    "    max_value = value1\n",
    "    if value2 > max_value:\n",
    "        max_value = value2\n",
    "    if value3 > max_value:\n",
    "        max_value = value3\n",
    "    return max_value\n",
    "\n",
    "maximum(12, 127,36)"
   ]
  },
  {
   "cell_type": "code",
   "execution_count": 14,
   "id": "85c47a35",
   "metadata": {},
   "outputs": [
    {
     "data": {
      "text/plain": [
       "45.6"
      ]
     },
     "execution_count": 14,
     "metadata": {},
     "output_type": "execute_result"
    }
   ],
   "source": [
    "maximum(12.3, 45.6, 9.7)"
   ]
  },
  {
   "cell_type": "code",
   "execution_count": 15,
   "id": "0a260505",
   "metadata": {},
   "outputs": [
    {
     "data": {
      "text/plain": [
       "'yellow'"
      ]
     },
     "execution_count": 15,
     "metadata": {},
     "output_type": "execute_result"
    }
   ],
   "source": [
    "maximum(\"yellow\", \"red\", \"orange\")"
   ]
  },
  {
   "cell_type": "code",
   "execution_count": 18,
   "id": "d26b92e2",
   "metadata": {},
   "outputs": [
    {
     "name": "stdout",
     "output_type": "stream",
     "text": [
      "(5, 6)\n"
     ]
    }
   ],
   "source": [
    "def sum_product(var1, var2):\n",
    "        '''Returns the sum and the product of two number'''\n",
    "        sum1 = var1 + var2\n",
    "        product = var1 * var2\n",
    "        return sum1, product\n",
    "\n",
    "def main():    \n",
    "    print (sum_product(2,3))\n",
    "main()"
   ]
  },
  {
   "cell_type": "markdown",
   "id": "4166eb9d",
   "metadata": {},
   "source": [
    "#### **Stop and answer this question**\n",
    "Follow the instructions in the code cell below..."
   ]
  },
  {
   "cell_type": "code",
   "execution_count": null,
   "id": "81d34fc5",
   "metadata": {},
   "outputs": [],
   "source": [
    "# Given the code above, why does this give an error??\n",
    "print(sum1)\n",
    "print(sum2)"
   ]
  },
  {
   "cell_type": "markdown",
   "id": "afe467ae",
   "metadata": {},
   "source": [
    "#### What if you don't give all required parameters??\n",
    "Follow the instructions in the code cell below..."
   ]
  },
  {
   "cell_type": "code",
   "execution_count": null,
   "id": "bf8d2e86",
   "metadata": {},
   "outputs": [
    {
     "name": "stdout",
     "output_type": "stream",
     "text": [
      "the area is...\n"
     ]
    },
    {
     "ename": "TypeError",
     "evalue": "rectangle_area() missing 1 required positional argument: 'width'",
     "output_type": "error",
     "traceback": [
      "\u001b[31m---------------------------------------------------------------------------\u001b[39m",
      "\u001b[31mTypeError\u001b[39m                                 Traceback (most recent call last)",
      "\u001b[36mCell\u001b[39m\u001b[36m \u001b[39m\u001b[32mIn[23]\u001b[39m\u001b[32m, line 10\u001b[39m\n\u001b[32m      8\u001b[39m     \u001b[38;5;28mprint\u001b[39m(\u001b[33m\"\u001b[39m\u001b[33mthe area is...\u001b[39m\u001b[33m\"\u001b[39m)\n\u001b[32m      9\u001b[39m     \u001b[38;5;28mprint\u001b[39m (rectangle_area(l*w))\n\u001b[32m---> \u001b[39m\u001b[32m10\u001b[39m \u001b[43mmain\u001b[49m\u001b[43m(\u001b[49m\u001b[43m)\u001b[49m\n",
      "\u001b[36mCell\u001b[39m\u001b[36m \u001b[39m\u001b[32mIn[23]\u001b[39m\u001b[32m, line 9\u001b[39m, in \u001b[36mmain\u001b[39m\u001b[34m()\u001b[39m\n\u001b[32m      7\u001b[39m w = \u001b[38;5;28mint\u001b[39m(\u001b[38;5;28minput\u001b[39m(\u001b[33m\"\u001b[39m\u001b[33menter the width \u001b[39m\u001b[33m\"\u001b[39m))\n\u001b[32m      8\u001b[39m \u001b[38;5;28mprint\u001b[39m(\u001b[33m\"\u001b[39m\u001b[33mthe area is...\u001b[39m\u001b[33m\"\u001b[39m)\n\u001b[32m----> \u001b[39m\u001b[32m9\u001b[39m \u001b[38;5;28mprint\u001b[39m (\u001b[43mrectangle_area\u001b[49m\u001b[43m(\u001b[49m\u001b[43ml\u001b[49m\u001b[43m*\u001b[49m\u001b[43mw\u001b[49m\u001b[43m)\u001b[49m)\n",
      "\u001b[31mTypeError\u001b[39m: rectangle_area() missing 1 required positional argument: 'width'"
     ]
    }
   ],
   "source": [
    "def rectangle_area(length, width):\n",
    "    \"\"\"Return a rectangle's area\"\"\"\n",
    "    return length * width\n",
    "\n",
    "def main():\n",
    "    l = int(input(\"enter the length \"))\n",
    "    w = int(input(\"enter the width \"))\n",
    "    print(\"the area is...\")\n",
    "    print (rectangle_area(l))\n",
    "main()"
   ]
  },
  {
   "cell_type": "markdown",
   "id": "ecef8da3",
   "metadata": {},
   "source": [
    "#### Variable scope\n",
    "Follow the instructions in the code cell below..."
   ]
  },
  {
   "cell_type": "code",
   "execution_count": null,
   "id": "9f3e44af",
   "metadata": {},
   "outputs": [],
   "source": [
    "x = 7\n",
    "\n",
    "def main():\n",
    "    def access_global():\n",
    "        print('x printed from access_global:', x)\n",
    "        \n",
    "    def try_to_modify_global():\n",
    "        x = 3.5\n",
    "        print(\"x printed from try_to_modify_global\", x)\n",
    "\n",
    "    access_global()\n",
    "    try_to_modify_global()\n",
    "    print('x from global', x)\n",
    "main()"
   ]
  },
  {
   "cell_type": "code",
   "execution_count": null,
   "id": "b0e3ae48",
   "metadata": {},
   "outputs": [],
   "source": [
    "# Trace the variables in this function\n",
    "t = 9\n",
    "def a():\n",
    "    t = 5\n",
    "    n = 10\n",
    "    return n, t\n",
    "def b():\n",
    "    c = a()\n",
    "    d, e = c\n",
    "    return d + t\n",
    "def main():\n",
    "    print(a())\n",
    "    print(b())\n",
    "main()"
   ]
  },
  {
   "cell_type": "markdown",
   "id": "974a8cb3",
   "metadata": {},
   "source": [
    "#### **Stop and answer this question**\n",
    "Write a program that has...\n",
    "- three function: main(), a function that calculates Celcius from degrees Fahrenheit, a function that converts inches to cm\n",
    "- the user must enter the inputs in the main() function and the converted values must be passed back to main()\n",
    "- descriptive print displays with correct units\n",
    "- docstrings"
   ]
  },
  {
   "cell_type": "code",
   "execution_count": null,
   "id": "2cf20025",
   "metadata": {},
   "outputs": [],
   "source": []
  }
 ],
 "metadata": {
  "kernelspec": {
   "display_name": "Python 3",
   "language": "python",
   "name": "python3"
  },
  "language_info": {
   "codemirror_mode": {
    "name": "ipython",
    "version": 3
   },
   "file_extension": ".py",
   "mimetype": "text/x-python",
   "name": "python",
   "nbconvert_exporter": "python",
   "pygments_lexer": "ipython3",
   "version": "3.13.7"
  }
 },
 "nbformat": 4,
 "nbformat_minor": 5
}
