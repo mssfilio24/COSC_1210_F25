{
 "cells": [
  {
   "cell_type": "markdown",
   "id": "09b41502",
   "metadata": {
    "vscode": {
     "languageId": "plaintext"
    }
   },
   "source": [
    "## COSC 1210\n",
    "### print(), input(), value storage and chaos\n",
    "\n",
    "Objectives\n",
    "- use the chaos function to illustrate the importance of value storage"
   ]
  },
  {
   "cell_type": "code",
   "execution_count": null,
   "id": "b6e1cd88",
   "metadata": {},
   "outputs": [],
   "source": [
    "\n",
    "def main():\n",
    "    a = 1/3\n",
    "    b = a + a + a\n",
    "    print(b)\n",
    "main()"
   ]
  },
  {
   "cell_type": "markdown",
   "id": "b7800a95",
   "metadata": {},
   "source": [
    "##### Explain why the function above provides an answer that is different than the algebraic solution\n",
    "It comes out just under 1 because computers can’t represent 1/3 exactly, so when it’s added three times a small rounding inaccuracy shows up."
   ]
  },
  {
   "cell_type": "code",
   "execution_count": null,
   "id": "419c95e4",
   "metadata": {},
   "outputs": [],
   "source": [
    "def main():\n",
    "    a = 1/7\n",
    "    b = a * 7\n",
    "    c = a + a + a + a + a + a + a\n",
    "    print(\"b is\", b)\n",
    "    print(\"c is\", c)\n",
    "main()"
   ]
  },
  {
   "cell_type": "markdown",
   "id": "45e9d1a1",
   "metadata": {},
   "source": [
    "##### Explain why b and c provide different answers\n",
    "The outcomes differ since multiplying 1/7 by 7 produces a more exact result, while adding 1/7 seven times causes tiny rounding errors to accumulate in the computer’s storage.\n",
    "\n",
    "\n",
    "##### How large is the difference between c and b?\n",
    "The difference is extremely small, around 0.0000000000000001, and it happens because repeatedly adding 1/7 introduces slight rounding errors.\n",
    "\n"
   ]
  },
  {
   "cell_type": "markdown",
   "id": "763a111c",
   "metadata": {},
   "source": [
    "### rounding floats\n",
    "Mathematically, what will be the value of b?\n",
    "When calculated by python, what is the value of b?"
   ]
  },
  {
   "cell_type": "code",
   "execution_count": null,
   "id": "704054ee",
   "metadata": {},
   "outputs": [],
   "source": [
    "def main():\n",
    "    print(\"This program illustrates a chaotic function\")\n",
    "    iterations = 10\n",
    "    x1 = 0.15\n",
    "    for i in range(iterations):\n",
    "        x1 = 3.9 * x1 * (1 - x1)\n",
    "    print(\"For\", iterations, \"iterations, x1 is:\", x1)\n",
    "main()"
   ]
  },
  {
   "cell_type": "markdown",
   "id": "335eda4a",
   "metadata": {},
   "source": [
    "##### If you calculate x1 for 10 iterations vs 100 iterations, what answers do you get?\n",
    "\n",
    "for 10 iterations: After 10 iterations, x1 continues to vary, but its behavior is still fairly predictable.\n",
    "\n",
    "for 100 iterations:After 100 iterations, x1 becomes highly sensitive and unpredictable, where even small changes in the initial value can produce drastically different outcomes.\n",
    "\n",
    "##### What are these different?\n",
    "The differences happen because the function is chaotic, so tiny changes in the initial value get magnified as time goes on.\n"
   ]
  },
  {
   "cell_type": "code",
   "execution_count": null,
   "id": "2b07c024",
   "metadata": {},
   "outputs": [],
   "source": [
    "def main():\n",
    "    print(\"This program illustrates a chaotic function\")\n",
    "    iterations = 10\n",
    "    x1 = 0.15\n",
    "    x2 = 0.15\n",
    "    for i in range(iterations):\n",
    "        x1 = 3.9 * x1 * (1 - x1)\n",
    "        x2 = 3.9 * (x2 - x2 * x2)\n",
    "    print(\"For\", iterations, \"iternations, x1 is now\", x1, \"and x2 is now\", x2)\n",
    "main()"
   ]
  },
  {
   "cell_type": "markdown",
   "id": "2d137bda",
   "metadata": {},
   "source": [
    "##### If you calculate x1 and x2 for 10 iterations vs 100 iterations, what answers do you get?\n",
    "\n",
    "x1 10 iterations: after 10 iterations the value of x1 is aprox 0.8296\n",
    "\n",
    "x2 10 iterations: after 10 iterations the value of x1 is aprox 0.8296\n",
    "\n",
    "\n",
    "\n",
    "x1 100 iterations: after 100 iterations the value is aprox 0.3657\n",
    "\n",
    "x2 100 iterations: after 100 iterations the value is aprox 0.3657\n",
    "\n",
    "##### Why are these different?\n",
    "the formulas of x1 and x2 are different because they cause very small differences that are growing over time. "
   ]
  },
  {
   "cell_type": "code",
   "execution_count": null,
   "id": "463cb691",
   "metadata": {},
   "outputs": [],
   "source": [
    "### Rewrite the chaos function so that the use can enter x\n",
    "def main():\n",
    "    print(\"this program illustrates a chaotic function\")\n",
    "    x = float(input(\"enter a number between 0 and 1\"))\n",
    "    iterartions = int(input(\"eneter the number of iterations: \"))\n",
    "    for i in range(iterations):\n",
    "        x = 3.9 * x * (1 - x)\n",
    "        print(\"after iteration\", i + 1, \"x is\", x)\n",
    "main()        "
   ]
  }
 ],
 "metadata": {
  "kernelspec": {
   "display_name": "base",
   "language": "python",
   "name": "python3"
  },
  "language_info": {
   "codemirror_mode": {
    "name": "ipython",
    "version": 3
   },
   "file_extension": ".py",
   "mimetype": "text/x-python",
   "name": "python",
   "nbconvert_exporter": "python",
   "pygments_lexer": "ipython3",
   "version": "3.12.2"
  }
 },
 "nbformat": 4,
 "nbformat_minor": 5
}
